{
  "metadata": {
    "language_info": {
      "mimetype": "text/x-python",
      "nbconvert_exporter": "python",
      "name": "python",
      "pygments_lexer": "ipython3",
      "version": "3.6.6",
      "file_extension": ".py",
      "codemirror_mode": {
        "version": 3,
        "name": "ipython"
      }
    },
    "kernelspec": {
      "name": "python36",
      "display_name": "Python 3.6",
      "language": "python"
    }
  },
  "nbformat_minor": 2,
  "nbformat": 4,
  "cells": [
    {
      "cell_type": "markdown",
      "source": "# Segmenting and clustering neighborhoods in Toronto",
      "metadata": {}
    },
    {
      "cell_type": "markdown",
      "source": "This notebook reads wikipedia page (https://en.wikipedia.org/wiki/List_of_postal_codes_of_Canada:_M) to get a list of boroughs and neighborhoods of Toronto.  The data will be loaded into a pandas dataframe.\n\nAssignment instructions:\n1. The dataframe will consist of three columns: PostalCode, Borough, and Neighborhood (in step 2)\n2. Only process the cells that have an assigned borough. Ignore cells with a borough that is **Not assigned** (in step 3.1)\n3. More than one neighborhood can exist in one postal code area. For example, in the table on the Wikipedia page, you will notice that M5A is listed twice and has two neighborhoods: Harbourfront and Regent Park. These two rows will be combined into one row with the neighborhoods separated with a comma as shown in row 11 in the above table. (in step 3.2)\n4. If a cell has a borough but a Not assigned neighborhood, then the neighborhood will be the same as the borough. So for the 9th cell in the table on the Wikipedia page, the value of the Borough and the Neighborhood columns will be Queen's Park (in step 3.3)\n5. Finally, in the last cell of your notebook, use the .shape method to print the number of rows of your dataframe.\n\n## Step 0 - import libraries",
      "metadata": {}
    },
    {
      "cell_type": "code",
      "source": "import pandas as pd\nimport requests\nimport bs4\nfrom bs4 import BeautifulSoup\n\nprint(\"Libraries imported.\")",
      "metadata": {
        "trusted": true
      },
      "execution_count": 1,
      "outputs": [
        {
          "text": "Libraries imported.\n",
          "name": "stdout",
          "output_type": "stream"
        }
      ]
    },
    {
      "cell_type": "markdown",
      "source": "## Step 1\n\nDownload the wiki page, parse it and explore the data a bit to understand its structure.\n",
      "metadata": {}
    },
    {
      "cell_type": "code",
      "source": "wiki_url = \"https://en.wikipedia.org/wiki/List_of_postal_codes_of_Canada:_M\"\n\n# Download the wiki page and parse it in.\nwiki_bs = BeautifulSoup(requests.get(wiki_url).text)\nprint(\"Downloading data ok!\")",
      "metadata": {
        "trusted": true
      },
      "execution_count": 2,
      "outputs": [
        {
          "text": "Downloading data ok!\n",
          "name": "stdout",
          "output_type": "stream"
        }
      ]
    },
    {
      "cell_type": "markdown",
      "source": "Next, examine the data we have...",
      "metadata": {}
    },
    {
      "cell_type": "code",
      "source": "# from examining the wiki page visually we know that our desired data is in the first table on the page\nw_postal_code_rows = wiki_bs.find('table').find_all('tr')\n\n# Confirm with some exploring that we have found correct data\nprint(\"\\n\\nTotal of\", len(w_postal_code_rows), \"postal code rows found\\n\")\nprint(\"Header row of the table:\")\nprint(w_postal_code_rows[0])\nprint(\"\\nfirst three rows of data:\")\nprint(w_postal_code_rows[1:4])",
      "metadata": {
        "trusted": true
      },
      "execution_count": 3,
      "outputs": [
        {
          "text": "\n\nTotal of 290 postal code rows found\n\nHeader row of the table:\n<tr>\n<th>Postcode</th>\n<th>Borough</th>\n<th>Neighbourhood\n</th></tr>\n\nfirst three rows of data:\n[<tr>\n<td>M1A</td>\n<td>Not assigned</td>\n<td>Not assigned\n</td></tr>, <tr>\n<td>M2A</td>\n<td>Not assigned</td>\n<td>Not assigned\n</td></tr>, <tr>\n<td>M3A</td>\n<td><a href=\"/wiki/North_York\" title=\"North York\">North York</a></td>\n<td><a href=\"/wiki/Parkwoods\" title=\"Parkwoods\">Parkwoods</a>\n</td></tr>]\n",
          "name": "stdout",
          "output_type": "stream"
        }
      ]
    },
    {
      "cell_type": "markdown",
      "source": "#### Step 1 results:\n\nAbove printout of data gives us a good understanding of what we are dealing with:\n- There are 290 rows in the HTML table, of those 1 is header row and 289 are data rows.\n- Each datarow's internal structure seems like quite basic html with **tr**, **td** and some **a** tags.\n- also there appears to be a newline character always in the 3rd column, the _neighbourhood_ column.\n\n## Step 2\n\nCreate a dataframe and parse the above data into it.",
      "metadata": {}
    },
    {
      "cell_type": "code",
      "source": "\n# First define a helper function to read the data from BeautifulSoup into a dataframe\n\n# returns parsed strings: postcode, borough, neighbourhood\ndef parse_wiki_postal_code_row(bs_tr):\n    if not isinstance(bs_tr, bs4.element.Tag):\n        print(\"parse_wiki_postal_code_row: Error, wrong type of input\", bs_tr)\n        return False\n    cols = bs_tr.find_all('td')\n    if len(cols) != 3:\n        print(\"Something wrong with this row? : \", bs_tr)\n        return False\n\n    # parse out the data\n    # 3rd column seems to include a newline char, remove it on the go...\n    postcode = cols[0].get_text()\n    borough = cols[1].get_text()\n    neighbourhood = cols[2].get_text().replace('\\n', '')\n\n    return postcode, borough, neighbourhood\n\nprint(\"helper function defined.\\n\")\n\n\n# Create the dataframe\ntoronto_df = pd.DataFrame(columns=[\"PostalCode\", \"Borough\", \"Neighborhood\"])\n\n# ... and fill it up\nfor row in w_postal_code_rows[1:]:\n    p, b, n = parse_wiki_postal_code_row(row)\n    row_data = {'PostalCode': p, 'Borough': b, 'Neighborhood': n}\n    toronto_df = toronto_df.append(row_data, ignore_index=True)\n\nprint(\"toronto_df has\", toronto_df.shape[0], \"rows of data.\\n\")\ntoronto_df.head()",
      "metadata": {
        "trusted": true
      },
      "execution_count": 4,
      "outputs": [
        {
          "text": "helper function defined.\n\ntoronto_df has 289 rows of data.\n\n",
          "name": "stdout",
          "output_type": "stream"
        },
        {
          "execution_count": 4,
          "output_type": "execute_result",
          "data": {
            "text/html": "<div>\n<style scoped>\n    .dataframe tbody tr th:only-of-type {\n        vertical-align: middle;\n    }\n\n    .dataframe tbody tr th {\n        vertical-align: top;\n    }\n\n    .dataframe thead th {\n        text-align: right;\n    }\n</style>\n<table border=\"1\" class=\"dataframe\">\n  <thead>\n    <tr style=\"text-align: right;\">\n      <th></th>\n      <th>PostalCode</th>\n      <th>Borough</th>\n      <th>Neighborhood</th>\n    </tr>\n  </thead>\n  <tbody>\n    <tr>\n      <th>0</th>\n      <td>M1A</td>\n      <td>Not assigned</td>\n      <td>Not assigned</td>\n    </tr>\n    <tr>\n      <th>1</th>\n      <td>M2A</td>\n      <td>Not assigned</td>\n      <td>Not assigned</td>\n    </tr>\n    <tr>\n      <th>2</th>\n      <td>M3A</td>\n      <td>North York</td>\n      <td>Parkwoods</td>\n    </tr>\n    <tr>\n      <th>3</th>\n      <td>M4A</td>\n      <td>North York</td>\n      <td>Victoria Village</td>\n    </tr>\n    <tr>\n      <th>4</th>\n      <td>M5A</td>\n      <td>Downtown Toronto</td>\n      <td>Harbourfront</td>\n    </tr>\n  </tbody>\n</table>\n</div>",
            "text/plain": "  PostalCode           Borough      Neighborhood\n0        M1A      Not assigned      Not assigned\n1        M2A      Not assigned      Not assigned\n2        M3A        North York         Parkwoods\n3        M4A        North York  Victoria Village\n4        M5A  Downtown Toronto      Harbourfront"
          },
          "metadata": {}
        }
      ]
    },
    {
      "cell_type": "code",
      "source": "# another quick peek into the data\ntoronto_df.describe()",
      "metadata": {
        "trusted": true
      },
      "execution_count": 5,
      "outputs": [
        {
          "execution_count": 5,
          "output_type": "execute_result",
          "data": {
            "text/html": "<div>\n<style scoped>\n    .dataframe tbody tr th:only-of-type {\n        vertical-align: middle;\n    }\n\n    .dataframe tbody tr th {\n        vertical-align: top;\n    }\n\n    .dataframe thead th {\n        text-align: right;\n    }\n</style>\n<table border=\"1\" class=\"dataframe\">\n  <thead>\n    <tr style=\"text-align: right;\">\n      <th></th>\n      <th>PostalCode</th>\n      <th>Borough</th>\n      <th>Neighborhood</th>\n    </tr>\n  </thead>\n  <tbody>\n    <tr>\n      <th>count</th>\n      <td>289</td>\n      <td>289</td>\n      <td>289</td>\n    </tr>\n    <tr>\n      <th>unique</th>\n      <td>180</td>\n      <td>12</td>\n      <td>210</td>\n    </tr>\n    <tr>\n      <th>top</th>\n      <td>M9V</td>\n      <td>Not assigned</td>\n      <td>Not assigned</td>\n    </tr>\n    <tr>\n      <th>freq</th>\n      <td>8</td>\n      <td>77</td>\n      <td>78</td>\n    </tr>\n  </tbody>\n</table>\n</div>",
            "text/plain": "       PostalCode       Borough  Neighborhood\ncount         289           289           289\nunique        180            12           210\ntop           M9V  Not assigned  Not assigned\nfreq            8            77            78"
          },
          "metadata": {}
        }
      ]
    },
    {
      "cell_type": "markdown",
      "source": "#### Step 2 results:\n\nAs seen above in step 1, there are 289 data rows, and reading the data into *toronto_df* dataframe appears to have succeeded.",
      "metadata": {}
    },
    {
      "cell_type": "markdown",
      "source": "## Step 3 - Clean the data\n\n\n### Cleanup #1\n\n_Only process the cells that have an assigned borough. Ignore cells with a borough that is Not assigned._",
      "metadata": {}
    },
    {
      "cell_type": "code",
      "source": "# remove rows whose Borough is \"Not assigned\"\ntoronto_df = toronto_df[toronto_df[\"Borough\"] != \"Not assigned\"]\nprint(\"\\n\\nNow toronto_df has\",toronto_df.shape[0], \"rows of data.\\n\")\ntoronto_df.head()",
      "metadata": {
        "trusted": true
      },
      "execution_count": 6,
      "outputs": [
        {
          "text": "\n\nNow toronto_df has 212 rows of data.\n\n",
          "name": "stdout",
          "output_type": "stream"
        },
        {
          "execution_count": 6,
          "output_type": "execute_result",
          "data": {
            "text/html": "<div>\n<style scoped>\n    .dataframe tbody tr th:only-of-type {\n        vertical-align: middle;\n    }\n\n    .dataframe tbody tr th {\n        vertical-align: top;\n    }\n\n    .dataframe thead th {\n        text-align: right;\n    }\n</style>\n<table border=\"1\" class=\"dataframe\">\n  <thead>\n    <tr style=\"text-align: right;\">\n      <th></th>\n      <th>PostalCode</th>\n      <th>Borough</th>\n      <th>Neighborhood</th>\n    </tr>\n  </thead>\n  <tbody>\n    <tr>\n      <th>2</th>\n      <td>M3A</td>\n      <td>North York</td>\n      <td>Parkwoods</td>\n    </tr>\n    <tr>\n      <th>3</th>\n      <td>M4A</td>\n      <td>North York</td>\n      <td>Victoria Village</td>\n    </tr>\n    <tr>\n      <th>4</th>\n      <td>M5A</td>\n      <td>Downtown Toronto</td>\n      <td>Harbourfront</td>\n    </tr>\n    <tr>\n      <th>5</th>\n      <td>M5A</td>\n      <td>Downtown Toronto</td>\n      <td>Regent Park</td>\n    </tr>\n    <tr>\n      <th>6</th>\n      <td>M6A</td>\n      <td>North York</td>\n      <td>Lawrence Heights</td>\n    </tr>\n  </tbody>\n</table>\n</div>",
            "text/plain": "  PostalCode           Borough      Neighborhood\n2        M3A        North York         Parkwoods\n3        M4A        North York  Victoria Village\n4        M5A  Downtown Toronto      Harbourfront\n5        M5A  Downtown Toronto       Regent Park\n6        M6A        North York  Lawrence Heights"
          },
          "metadata": {}
        }
      ]
    },
    {
      "cell_type": "markdown",
      "source": "### Cleanup #2\n\n_More than one neighborhood can exist in one postal code area. For example, in the table on the Wikipedia page, you will notice that M5A is listed twice and has two neighborhoods: Harbourfront and Regent Park. These two rows will be combined into one row with the neighborhoods separated with a comma._\n\nFirst find out the postal codes that are mentioned in *toronto_df* more than once.",
      "metadata": {}
    },
    {
      "cell_type": "code",
      "source": "g_toronto_df = toronto_df.groupby(\"PostalCode\").count()\ndoubles_df = g_toronto_df[g_toronto_df['Borough'] > 1]\n\nprint(\"\\n\\nFound\", doubles_df.shape[0], \"postal codes to appear more than once in the wikipedia data.\\n\")\ndoubles_df.head()",
      "metadata": {
        "trusted": true
      },
      "execution_count": 7,
      "outputs": [
        {
          "text": "\n\nFound 58 postal codes to appear more than once in the wikipedia data.\n\n",
          "name": "stdout",
          "output_type": "stream"
        },
        {
          "execution_count": 7,
          "output_type": "execute_result",
          "data": {
            "text/html": "<div>\n<style scoped>\n    .dataframe tbody tr th:only-of-type {\n        vertical-align: middle;\n    }\n\n    .dataframe tbody tr th {\n        vertical-align: top;\n    }\n\n    .dataframe thead th {\n        text-align: right;\n    }\n</style>\n<table border=\"1\" class=\"dataframe\">\n  <thead>\n    <tr style=\"text-align: right;\">\n      <th></th>\n      <th>Borough</th>\n      <th>Neighborhood</th>\n    </tr>\n    <tr>\n      <th>PostalCode</th>\n      <th></th>\n      <th></th>\n    </tr>\n  </thead>\n  <tbody>\n    <tr>\n      <th>M1B</th>\n      <td>2</td>\n      <td>2</td>\n    </tr>\n    <tr>\n      <th>M1C</th>\n      <td>3</td>\n      <td>3</td>\n    </tr>\n    <tr>\n      <th>M1E</th>\n      <td>3</td>\n      <td>3</td>\n    </tr>\n    <tr>\n      <th>M1K</th>\n      <td>3</td>\n      <td>3</td>\n    </tr>\n    <tr>\n      <th>M1L</th>\n      <td>3</td>\n      <td>3</td>\n    </tr>\n  </tbody>\n</table>\n</div>",
            "text/plain": "            Borough  Neighborhood\nPostalCode                       \nM1B               2             2\nM1C               3             3\nM1E               3             3\nM1K               3             3\nM1L               3             3"
          },
          "metadata": {}
        }
      ]
    },
    {
      "cell_type": "markdown",
      "source": "Then, for each postal code identified above:\n- find all different neighborhoods that belong to the postal code in the *toronto_df* and join them into one string,\n- check that the **borough** is the same for all rows of data\n- remove the old postal code entries from the *toronto_df*\n- add new entry to the *toronto_df*, where the postal code is only once and all neighborhoods are in one string, comma separated.",
      "metadata": {}
    },
    {
      "cell_type": "code",
      "source": "\n# loop to merge postal codes with many rows (neighborhoods) into one row\n\nfor index, row in doubles_df.iterrows():\n    filter = toronto_df['PostalCode'] == index\n    neighborhoods_Series = toronto_df[filter]['Neighborhood']\n    boroughs_Series = toronto_df[filter]['Borough']\n\n    # Avoid running this cleanup more than once, it could happend if this cell\n    # was executed multiple times consequently...\n    if len(neighborhoods_Series) > 1:\n        # concatenate the neighborhoods into one string\n        s = \", \".join(neighborhoods_Series.sort_values())\n\n        # ensure all postal codes belong to same borough\n        if len(set(boroughs_Series)) > 1:\n            print(\"*************: check failed for\", index)\n        borough = boroughs_Series.iloc[0]\n\n        # drop old rows of the postal code from the toronto dataset\n        toronto_df = toronto_df[toronto_df['PostalCode'] != index]    \n\n        # add new row with merged neighborhood data\n        row_data = {'PostalCode': index, 'Borough': borough, 'Neighborhood': s}\n        toronto_df = toronto_df.append(row_data, ignore_index=True)\n\nprint(\"\\n\\nNow toronto_df has\", toronto_df.shape[0], \"rows of data.\\n\")\ntoronto_df.head()",
      "metadata": {
        "trusted": true
      },
      "execution_count": 8,
      "outputs": [
        {
          "text": "\n\nNow toronto_df has 103 rows of data.\n\n",
          "name": "stdout",
          "output_type": "stream"
        },
        {
          "execution_count": 8,
          "output_type": "execute_result",
          "data": {
            "text/html": "<div>\n<style scoped>\n    .dataframe tbody tr th:only-of-type {\n        vertical-align: middle;\n    }\n\n    .dataframe tbody tr th {\n        vertical-align: top;\n    }\n\n    .dataframe thead th {\n        text-align: right;\n    }\n</style>\n<table border=\"1\" class=\"dataframe\">\n  <thead>\n    <tr style=\"text-align: right;\">\n      <th></th>\n      <th>PostalCode</th>\n      <th>Borough</th>\n      <th>Neighborhood</th>\n    </tr>\n  </thead>\n  <tbody>\n    <tr>\n      <th>0</th>\n      <td>M3A</td>\n      <td>North York</td>\n      <td>Parkwoods</td>\n    </tr>\n    <tr>\n      <th>1</th>\n      <td>M4A</td>\n      <td>North York</td>\n      <td>Victoria Village</td>\n    </tr>\n    <tr>\n      <th>2</th>\n      <td>M7A</td>\n      <td>Queen's Park</td>\n      <td>Not assigned</td>\n    </tr>\n    <tr>\n      <th>3</th>\n      <td>M9A</td>\n      <td>Etobicoke</td>\n      <td>Islington Avenue</td>\n    </tr>\n    <tr>\n      <th>4</th>\n      <td>M3B</td>\n      <td>North York</td>\n      <td>Don Mills North</td>\n    </tr>\n  </tbody>\n</table>\n</div>",
            "text/plain": "  PostalCode       Borough      Neighborhood\n0        M3A    North York         Parkwoods\n1        M4A    North York  Victoria Village\n2        M7A  Queen's Park      Not assigned\n3        M9A     Etobicoke  Islington Avenue\n4        M3B    North York   Don Mills North"
          },
          "metadata": {}
        }
      ]
    },
    {
      "cell_type": "markdown",
      "source": "### Cleanup #3\n\n_If a cell has a borough but a **Not assigned** neighborhood, then the neighborhood will be the same as the borough. So for the 9th cell in the table on the Wikipedia page, the value of the Borough and the Neighborhood columns will be Queen's Park._\n\nSo first find out how many such cases there are.",
      "metadata": {}
    },
    {
      "cell_type": "code",
      "source": "filter = toronto_df['Neighborhood'].str.contains(\"Not assigned\")\ntoronto_df[filter]",
      "metadata": {
        "trusted": true
      },
      "execution_count": 9,
      "outputs": [
        {
          "execution_count": 9,
          "output_type": "execute_result",
          "data": {
            "text/html": "<div>\n<style scoped>\n    .dataframe tbody tr th:only-of-type {\n        vertical-align: middle;\n    }\n\n    .dataframe tbody tr th {\n        vertical-align: top;\n    }\n\n    .dataframe thead th {\n        text-align: right;\n    }\n</style>\n<table border=\"1\" class=\"dataframe\">\n  <thead>\n    <tr style=\"text-align: right;\">\n      <th></th>\n      <th>PostalCode</th>\n      <th>Borough</th>\n      <th>Neighborhood</th>\n    </tr>\n  </thead>\n  <tbody>\n    <tr>\n      <th>2</th>\n      <td>M7A</td>\n      <td>Queen's Park</td>\n      <td>Not assigned</td>\n    </tr>\n  </tbody>\n</table>\n</div>",
            "text/plain": "  PostalCode       Borough  Neighborhood\n2        M7A  Queen's Park  Not assigned"
          },
          "metadata": {}
        }
      ]
    },
    {
      "cell_type": "markdown",
      "source": "Just one, ok.  Still we clean it in a way that would handle many rows as well.",
      "metadata": {}
    },
    {
      "cell_type": "code",
      "source": "# assign neighborhood values from borough\ntoronto_df.loc[filter, 'Neighborhood'] = toronto_df.loc[filter, 'Borough']\n\n# show result\ntoronto_df[filter]",
      "metadata": {
        "trusted": true
      },
      "execution_count": 10,
      "outputs": [
        {
          "execution_count": 10,
          "output_type": "execute_result",
          "data": {
            "text/html": "<div>\n<style scoped>\n    .dataframe tbody tr th:only-of-type {\n        vertical-align: middle;\n    }\n\n    .dataframe tbody tr th {\n        vertical-align: top;\n    }\n\n    .dataframe thead th {\n        text-align: right;\n    }\n</style>\n<table border=\"1\" class=\"dataframe\">\n  <thead>\n    <tr style=\"text-align: right;\">\n      <th></th>\n      <th>PostalCode</th>\n      <th>Borough</th>\n      <th>Neighborhood</th>\n    </tr>\n  </thead>\n  <tbody>\n    <tr>\n      <th>2</th>\n      <td>M7A</td>\n      <td>Queen's Park</td>\n      <td>Queen's Park</td>\n    </tr>\n  </tbody>\n</table>\n</div>",
            "text/plain": "  PostalCode       Borough  Neighborhood\n2        M7A  Queen's Park  Queen's Park"
          },
          "metadata": {}
        }
      ]
    },
    {
      "cell_type": "markdown",
      "source": "Cleaning is done successfully.\n\n## Final result\n\nFirst write the cleaned data into a file, from where we can load it in the next phase of this assignment.",
      "metadata": {}
    },
    {
      "cell_type": "code",
      "source": "\n# save data to file\noutput_file_name = \"toronto_postal_cleaned.csv\"\ntext_file = open(output_file_name, 'w')\ntext_file.write(toronto_df.to_csv(index=False))\ntext_file.close()\nprint(\"toronto_df written to file\", output_file_name)",
      "metadata": {
        "trusted": true
      },
      "execution_count": 11,
      "outputs": [
        {
          "text": "toronto_df written to file toronto_postal_cleaned.csv\n",
          "name": "stdout",
          "output_type": "stream"
        }
      ]
    },
    {
      "cell_type": "markdown",
      "source": "\nFinally, let's see how the data looks now, and finish up with the *shape* information in the last cell.\n\n",
      "metadata": {}
    },
    {
      "cell_type": "code",
      "source": "toronto_df.describe()",
      "metadata": {
        "trusted": true
      },
      "execution_count": 12,
      "outputs": [
        {
          "execution_count": 12,
          "output_type": "execute_result",
          "data": {
            "text/html": "<div>\n<style scoped>\n    .dataframe tbody tr th:only-of-type {\n        vertical-align: middle;\n    }\n\n    .dataframe tbody tr th {\n        vertical-align: top;\n    }\n\n    .dataframe thead th {\n        text-align: right;\n    }\n</style>\n<table border=\"1\" class=\"dataframe\">\n  <thead>\n    <tr style=\"text-align: right;\">\n      <th></th>\n      <th>PostalCode</th>\n      <th>Borough</th>\n      <th>Neighborhood</th>\n    </tr>\n  </thead>\n  <tbody>\n    <tr>\n      <th>count</th>\n      <td>103</td>\n      <td>103</td>\n      <td>103</td>\n    </tr>\n    <tr>\n      <th>unique</th>\n      <td>103</td>\n      <td>11</td>\n      <td>103</td>\n    </tr>\n    <tr>\n      <th>top</th>\n      <td>M4A</td>\n      <td>North York</td>\n      <td>Woodbine Heights</td>\n    </tr>\n    <tr>\n      <th>freq</th>\n      <td>1</td>\n      <td>24</td>\n      <td>1</td>\n    </tr>\n  </tbody>\n</table>\n</div>",
            "text/plain": "       PostalCode     Borough      Neighborhood\ncount         103         103               103\nunique        103          11               103\ntop           M4A  North York  Woodbine Heights\nfreq            1          24                 1"
          },
          "metadata": {}
        }
      ]
    },
    {
      "cell_type": "code",
      "source": "toronto_df.head(12)",
      "metadata": {
        "trusted": true
      },
      "execution_count": 13,
      "outputs": [
        {
          "execution_count": 13,
          "output_type": "execute_result",
          "data": {
            "text/html": "<div>\n<style scoped>\n    .dataframe tbody tr th:only-of-type {\n        vertical-align: middle;\n    }\n\n    .dataframe tbody tr th {\n        vertical-align: top;\n    }\n\n    .dataframe thead th {\n        text-align: right;\n    }\n</style>\n<table border=\"1\" class=\"dataframe\">\n  <thead>\n    <tr style=\"text-align: right;\">\n      <th></th>\n      <th>PostalCode</th>\n      <th>Borough</th>\n      <th>Neighborhood</th>\n    </tr>\n  </thead>\n  <tbody>\n    <tr>\n      <th>0</th>\n      <td>M3A</td>\n      <td>North York</td>\n      <td>Parkwoods</td>\n    </tr>\n    <tr>\n      <th>1</th>\n      <td>M4A</td>\n      <td>North York</td>\n      <td>Victoria Village</td>\n    </tr>\n    <tr>\n      <th>2</th>\n      <td>M7A</td>\n      <td>Queen's Park</td>\n      <td>Queen's Park</td>\n    </tr>\n    <tr>\n      <th>3</th>\n      <td>M9A</td>\n      <td>Etobicoke</td>\n      <td>Islington Avenue</td>\n    </tr>\n    <tr>\n      <th>4</th>\n      <td>M3B</td>\n      <td>North York</td>\n      <td>Don Mills North</td>\n    </tr>\n    <tr>\n      <th>5</th>\n      <td>M6B</td>\n      <td>North York</td>\n      <td>Glencairn</td>\n    </tr>\n    <tr>\n      <th>6</th>\n      <td>M4C</td>\n      <td>East York</td>\n      <td>Woodbine Heights</td>\n    </tr>\n    <tr>\n      <th>7</th>\n      <td>M5C</td>\n      <td>Downtown Toronto</td>\n      <td>St. James Town</td>\n    </tr>\n    <tr>\n      <th>8</th>\n      <td>M6C</td>\n      <td>York</td>\n      <td>Humewood-Cedarvale</td>\n    </tr>\n    <tr>\n      <th>9</th>\n      <td>M4E</td>\n      <td>East Toronto</td>\n      <td>The Beaches</td>\n    </tr>\n    <tr>\n      <th>10</th>\n      <td>M5E</td>\n      <td>Downtown Toronto</td>\n      <td>Berczy Park</td>\n    </tr>\n    <tr>\n      <th>11</th>\n      <td>M6E</td>\n      <td>York</td>\n      <td>Caledonia-Fairbanks</td>\n    </tr>\n  </tbody>\n</table>\n</div>",
            "text/plain": "   PostalCode           Borough         Neighborhood\n0         M3A        North York            Parkwoods\n1         M4A        North York     Victoria Village\n2         M7A      Queen's Park         Queen's Park\n3         M9A         Etobicoke     Islington Avenue\n4         M3B        North York      Don Mills North\n5         M6B        North York            Glencairn\n6         M4C         East York     Woodbine Heights\n7         M5C  Downtown Toronto       St. James Town\n8         M6C              York   Humewood-Cedarvale\n9         M4E      East Toronto          The Beaches\n10        M5E  Downtown Toronto          Berczy Park\n11        M6E              York  Caledonia-Fairbanks"
          },
          "metadata": {}
        }
      ]
    },
    {
      "cell_type": "code",
      "source": "toronto_df.shape",
      "metadata": {
        "trusted": true
      },
      "execution_count": 14,
      "outputs": [
        {
          "execution_count": 14,
          "output_type": "execute_result",
          "data": {
            "text/plain": "(103, 3)"
          },
          "metadata": {}
        }
      ]
    }
  ]
}