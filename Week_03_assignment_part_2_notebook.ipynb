{
  "metadata": {
    "language_info": {
      "mimetype": "text/x-python",
      "nbconvert_exporter": "python",
      "name": "python",
      "pygments_lexer": "ipython3",
      "version": "3.6.6",
      "file_extension": ".py",
      "codemirror_mode": {
        "version": 3,
        "name": "ipython"
      }
    },
    "kernelspec": {
      "name": "python36",
      "display_name": "Python 3.6",
      "language": "python"
    }
  },
  "nbformat_minor": 2,
  "nbformat": 4,
  "cells": [
    {
      "cell_type": "markdown",
      "source": "# Segmenting and clustering neighborhoods in Toronto",
      "metadata": {}
    },
    {
      "cell_type": "markdown",
      "source": "This notebook is **part 2** of the course's third weeks assignment.  This notebook uses the results from part one of the assignment by loading the results from a file.\n",
      "metadata": {}
    },
    {
      "cell_type": "markdown",
      "source": "# Assignment, Part 2\n\nAssignment description:\n\nNow that you have built a dataframe of the postal code of each neighborhood along with the borough name and neighborhood name, in order to utilize the Foursquare location data, we need to **get the latitude and the longitude coordinates of each neighborhood**.\n\nWe will use the Geocoder Python package: https://geocoder.readthedocs.io/index.html.\n\nThe problem with this Package is you have to be persistent sometimes in order to get the geographical coordinates of a given postal code. So you can make a call to get the latitude and longitude coordinates of a given postal code and the result would be None, and then make the call again and you would get the coordinates. So, in order to make sure that you get the coordinates for all of our neighborhoods, you can run a while loop for each postal code. Taking postal code M5G as an example, your code would look something like this:\n\n```\nimport geocoder\n\nlat_lng_coords = None\n\nwhile (lat_lng_coords is None):\n    g = geocoder.google('{}, Toronto, Ontario'.format(postal_code))\n    lat_lng_coords = g.latlng\n\nlatitude = lat_lng_coords[0]\nlongitude = lat_lng_coords[1]\n\n\n```\n\nGiven that this package can be very unreliable, in case you are not able to get the geographical coordinates of the neighborhoods using the Geocoder package, here is a link to a csv file that has the geographical coordinates of each postal code: http://cocl.us/Geospatial_data\n\nUse the Geocoder package or the csv file to create a **dataframe which contains part 1 data and the latitude and longitude coordinates for each postal code (columns _Latitude_ and _Longitude_)**.\n\n\nImportant Note: There is a limit on how many times you can call geocoder.google function. It is 2500 times per day. This should be way more than enough for you to get acquainted with the package and to use it to get the geographical coordinates of the neighborhoods in the Toronto.\n\nOnce you are able to create the above dataframe, submit a link to the new Notebook on your Github repository. (2 marks)\n\n## Step 0 - Import libraries\n",
      "metadata": {}
    },
    {
      "cell_type": "code",
      "source": "import pandas as pd\nimport requests\n\n# Uncomment following, if importing geocoder gives an error\n#!pip install geocoder\nimport geocoder\n\nprint(\"Libraries imported.\")",
      "metadata": {
        "trusted": true
      },
      "execution_count": 1,
      "outputs": [
        {
          "text": "Libraries imported.\n",
          "name": "stdout",
          "output_type": "stream"
        }
      ]
    },
    {
      "cell_type": "markdown",
      "source": "## Step 1\n\nLoad the Toronto Postal Code + neighborhood data from previous part into a dataframe.",
      "metadata": {}
    },
    {
      "cell_type": "code",
      "source": "toronto_data_filename = \"toronto_postal_cleaned.csv\"\ntoronto_df = pd.read_csv(toronto_data_filename)\n\nprint(\"\\n\\nRead\", toronto_df.shape[0], \"rows of data into toronto_df\\n\")\ntoronto_df.head()\n",
      "metadata": {
        "trusted": true
      },
      "execution_count": 2,
      "outputs": [
        {
          "text": "\n\nRead 103 rows of data into toronto_df\n\n",
          "name": "stdout",
          "output_type": "stream"
        },
        {
          "execution_count": 2,
          "output_type": "execute_result",
          "data": {
            "text/html": "<div>\n<style scoped>\n    .dataframe tbody tr th:only-of-type {\n        vertical-align: middle;\n    }\n\n    .dataframe tbody tr th {\n        vertical-align: top;\n    }\n\n    .dataframe thead th {\n        text-align: right;\n    }\n</style>\n<table border=\"1\" class=\"dataframe\">\n  <thead>\n    <tr style=\"text-align: right;\">\n      <th></th>\n      <th>PostalCode</th>\n      <th>Borough</th>\n      <th>Neighborhood</th>\n    </tr>\n  </thead>\n  <tbody>\n    <tr>\n      <th>0</th>\n      <td>M3A</td>\n      <td>North York</td>\n      <td>Parkwoods</td>\n    </tr>\n    <tr>\n      <th>1</th>\n      <td>M4A</td>\n      <td>North York</td>\n      <td>Victoria Village</td>\n    </tr>\n    <tr>\n      <th>2</th>\n      <td>M7A</td>\n      <td>Queen's Park</td>\n      <td>Queen's Park</td>\n    </tr>\n    <tr>\n      <th>3</th>\n      <td>M9A</td>\n      <td>Etobicoke</td>\n      <td>Islington Avenue</td>\n    </tr>\n    <tr>\n      <th>4</th>\n      <td>M3B</td>\n      <td>North York</td>\n      <td>Don Mills North</td>\n    </tr>\n  </tbody>\n</table>\n</div>",
            "text/plain": "  PostalCode       Borough      Neighborhood\n0        M3A    North York         Parkwoods\n1        M4A    North York  Victoria Village\n2        M7A  Queen's Park      Queen's Park\n3        M9A     Etobicoke  Islington Avenue\n4        M3B    North York   Don Mills North"
          },
          "metadata": {}
        }
      ]
    },
    {
      "cell_type": "markdown",
      "source": "## Step 2\n\nGet the geo data\n\n### Step 2, try 1 (load geo data using geocoder)\n\nHere is code that works to load coordinate data with geocoder.  However, after I downloaded the coordinates, I noticed they are not exactly the same as from google, so I decided to use the already collected coordinates from the provided file _Geospatial_Coordinates.csv_ as given in the assignment.\n\n\nHowever, here is the code to download each coordinate from the online services, for archival purposes or so...",
      "metadata": {}
    },
    {
      "cell_type": "code",
      "source": "\n# Change this to True if you want to run this code\ndo_for_REAL = False\n\nif do_for_REAL:\n\n    # make changes into a copy, so we don't need to reload the original toronto_df data\n    toronto_coords_df = toronto_df\n    \n    #Read postal codes into a list\n    postal_codes = [pc for pc in toronto_coords_df[\"PostalCode\"]]\n\n    # Read location coordinates from arcgis service.  Google service didn't work but arcgis did, so used it.\n    # Only later found that the coordinate values are not exactly the same.\n    latitudes_list = []\n    longitudes_list = []\n\n    for pc in postal_codes:\n\n        request = '{}, Toronto, Ontario'.format(pc)\n        lat_lng_coords = None\n        while (lat_lng_coords is None):\n            # Show some progress, because this takes some time.\n            print(\"trying request\", request)\n            #g = geocoder.google(request)\n            g = geocoder.arcgis(request)\n            lat_lng_coords = g.latlng\n\n        latitudes_list.append(lat_lng_coords[0])\n        longitudes_list.append(lat_lng_coords[1])\n\n    print(\"\\n\\nReading coordinates done, read\", len(latitudes_list), \"latitudes and\", len(longitudes_list), \"longitudes\\n\\n\")\n    \n    toronto_coords_df[\"Latitude\"] = latitudes_list\n    toronto_coords_df[\"Longitude\"] = longitudes_list\n    toronto_coords_df.head()\n    \n    # save data to file\n    output_file_name = \"toronto_postal_plus_arcgis.csv\"\n    text_file = open(output_file_name, 'w')\n    text_file.write(toronto_coords_df.to_csv(index=False))\n    text_file.close()\n    print(\"\\n\\ntoronto_coords_df written to file\", output_file_name, \"\\n\\n\")\n\nelse:\n    print(\"Code was not run\")\n    \n# That's all for that rehearsal...\n",
      "metadata": {
        "trusted": true
      },
      "execution_count": 3,
      "outputs": [
        {
          "text": "Code was not run\n",
          "name": "stdout",
          "output_type": "stream"
        }
      ]
    },
    {
      "cell_type": "markdown",
      "source": "## Step 2, try 2 (use the coordinates given in a file)\n\nSo here we use the coordinates from *Geospatial_Coordinates.csv* file.",
      "metadata": {}
    },
    {
      "cell_type": "code",
      "source": "geo_df = pd.read_csv(\"Geospatial_Coordinates.csv\")\n\nprint(\"\\n\\nRead\", geo_df.shape[0], \"rows of data into geo_df\\n\")\ngeo_df.head()",
      "metadata": {
        "trusted": true
      },
      "execution_count": 4,
      "outputs": [
        {
          "text": "\n\nRead 103 rows of data into geo_df\n\n",
          "name": "stdout",
          "output_type": "stream"
        },
        {
          "execution_count": 4,
          "output_type": "execute_result",
          "data": {
            "text/html": "<div>\n<style scoped>\n    .dataframe tbody tr th:only-of-type {\n        vertical-align: middle;\n    }\n\n    .dataframe tbody tr th {\n        vertical-align: top;\n    }\n\n    .dataframe thead th {\n        text-align: right;\n    }\n</style>\n<table border=\"1\" class=\"dataframe\">\n  <thead>\n    <tr style=\"text-align: right;\">\n      <th></th>\n      <th>Postal Code</th>\n      <th>Latitude</th>\n      <th>Longitude</th>\n    </tr>\n  </thead>\n  <tbody>\n    <tr>\n      <th>0</th>\n      <td>M1B</td>\n      <td>43.806686</td>\n      <td>-79.194353</td>\n    </tr>\n    <tr>\n      <th>1</th>\n      <td>M1C</td>\n      <td>43.784535</td>\n      <td>-79.160497</td>\n    </tr>\n    <tr>\n      <th>2</th>\n      <td>M1E</td>\n      <td>43.763573</td>\n      <td>-79.188711</td>\n    </tr>\n    <tr>\n      <th>3</th>\n      <td>M1G</td>\n      <td>43.770992</td>\n      <td>-79.216917</td>\n    </tr>\n    <tr>\n      <th>4</th>\n      <td>M1H</td>\n      <td>43.773136</td>\n      <td>-79.239476</td>\n    </tr>\n  </tbody>\n</table>\n</div>",
            "text/plain": "  Postal Code   Latitude  Longitude\n0         M1B  43.806686 -79.194353\n1         M1C  43.784535 -79.160497\n2         M1E  43.763573 -79.188711\n3         M1G  43.770992 -79.216917\n4         M1H  43.773136 -79.239476"
          },
          "metadata": {}
        }
      ]
    },
    {
      "cell_type": "markdown",
      "source": "Geo data from file needs a bit of engineering, as one column needs to be renamed for later purposes (=merge)",
      "metadata": {}
    },
    {
      "cell_type": "code",
      "source": "# Clean geo_df data, column name must be changed from 'Postal Code' to 'PostalCode'\ngeo_df.rename(columns={'Postal Code': 'PostalCode'}, inplace=True)\ngeo_df.head()",
      "metadata": {
        "trusted": true
      },
      "execution_count": 5,
      "outputs": [
        {
          "execution_count": 5,
          "output_type": "execute_result",
          "data": {
            "text/html": "<div>\n<style scoped>\n    .dataframe tbody tr th:only-of-type {\n        vertical-align: middle;\n    }\n\n    .dataframe tbody tr th {\n        vertical-align: top;\n    }\n\n    .dataframe thead th {\n        text-align: right;\n    }\n</style>\n<table border=\"1\" class=\"dataframe\">\n  <thead>\n    <tr style=\"text-align: right;\">\n      <th></th>\n      <th>PostalCode</th>\n      <th>Latitude</th>\n      <th>Longitude</th>\n    </tr>\n  </thead>\n  <tbody>\n    <tr>\n      <th>0</th>\n      <td>M1B</td>\n      <td>43.806686</td>\n      <td>-79.194353</td>\n    </tr>\n    <tr>\n      <th>1</th>\n      <td>M1C</td>\n      <td>43.784535</td>\n      <td>-79.160497</td>\n    </tr>\n    <tr>\n      <th>2</th>\n      <td>M1E</td>\n      <td>43.763573</td>\n      <td>-79.188711</td>\n    </tr>\n    <tr>\n      <th>3</th>\n      <td>M1G</td>\n      <td>43.770992</td>\n      <td>-79.216917</td>\n    </tr>\n    <tr>\n      <th>4</th>\n      <td>M1H</td>\n      <td>43.773136</td>\n      <td>-79.239476</td>\n    </tr>\n  </tbody>\n</table>\n</div>",
            "text/plain": "  PostalCode   Latitude  Longitude\n0        M1B  43.806686 -79.194353\n1        M1C  43.784535 -79.160497\n2        M1E  43.763573 -79.188711\n3        M1G  43.770992 -79.216917\n4        M1H  43.773136 -79.239476"
          },
          "metadata": {}
        }
      ]
    },
    {
      "cell_type": "markdown",
      "source": "Now we can merge the two dataframes, *toronto_df* and *geo_df* into a new *toronto_geo_df*.",
      "metadata": {}
    },
    {
      "cell_type": "code",
      "source": "# Merge to two dataframes together\ntoronto_geo_df = pd.merge(toronto_df, geo_df, on='PostalCode')",
      "metadata": {
        "trusted": true
      },
      "execution_count": 6,
      "outputs": []
    },
    {
      "cell_type": "markdown",
      "source": "## Final result",
      "metadata": {}
    },
    {
      "cell_type": "code",
      "source": "toronto_geo_df",
      "metadata": {
        "trusted": true
      },
      "execution_count": 7,
      "outputs": [
        {
          "execution_count": 7,
          "output_type": "execute_result",
          "data": {
            "text/html": "<div>\n<style scoped>\n    .dataframe tbody tr th:only-of-type {\n        vertical-align: middle;\n    }\n\n    .dataframe tbody tr th {\n        vertical-align: top;\n    }\n\n    .dataframe thead th {\n        text-align: right;\n    }\n</style>\n<table border=\"1\" class=\"dataframe\">\n  <thead>\n    <tr style=\"text-align: right;\">\n      <th></th>\n      <th>PostalCode</th>\n      <th>Borough</th>\n      <th>Neighborhood</th>\n      <th>Latitude</th>\n      <th>Longitude</th>\n    </tr>\n  </thead>\n  <tbody>\n    <tr>\n      <th>0</th>\n      <td>M3A</td>\n      <td>North York</td>\n      <td>Parkwoods</td>\n      <td>43.753259</td>\n      <td>-79.329656</td>\n    </tr>\n    <tr>\n      <th>1</th>\n      <td>M4A</td>\n      <td>North York</td>\n      <td>Victoria Village</td>\n      <td>43.725882</td>\n      <td>-79.315572</td>\n    </tr>\n    <tr>\n      <th>2</th>\n      <td>M7A</td>\n      <td>Queen's Park</td>\n      <td>Queen's Park</td>\n      <td>43.662301</td>\n      <td>-79.389494</td>\n    </tr>\n    <tr>\n      <th>3</th>\n      <td>M9A</td>\n      <td>Etobicoke</td>\n      <td>Islington Avenue</td>\n      <td>43.667856</td>\n      <td>-79.532242</td>\n    </tr>\n    <tr>\n      <th>4</th>\n      <td>M3B</td>\n      <td>North York</td>\n      <td>Don Mills North</td>\n      <td>43.745906</td>\n      <td>-79.352188</td>\n    </tr>\n    <tr>\n      <th>5</th>\n      <td>M6B</td>\n      <td>North York</td>\n      <td>Glencairn</td>\n      <td>43.709577</td>\n      <td>-79.445073</td>\n    </tr>\n    <tr>\n      <th>6</th>\n      <td>M4C</td>\n      <td>East York</td>\n      <td>Woodbine Heights</td>\n      <td>43.695344</td>\n      <td>-79.318389</td>\n    </tr>\n    <tr>\n      <th>7</th>\n      <td>M5C</td>\n      <td>Downtown Toronto</td>\n      <td>St. James Town</td>\n      <td>43.651494</td>\n      <td>-79.375418</td>\n    </tr>\n    <tr>\n      <th>8</th>\n      <td>M6C</td>\n      <td>York</td>\n      <td>Humewood-Cedarvale</td>\n      <td>43.693781</td>\n      <td>-79.428191</td>\n    </tr>\n    <tr>\n      <th>9</th>\n      <td>M4E</td>\n      <td>East Toronto</td>\n      <td>The Beaches</td>\n      <td>43.676357</td>\n      <td>-79.293031</td>\n    </tr>\n    <tr>\n      <th>10</th>\n      <td>M5E</td>\n      <td>Downtown Toronto</td>\n      <td>Berczy Park</td>\n      <td>43.644771</td>\n      <td>-79.373306</td>\n    </tr>\n    <tr>\n      <th>11</th>\n      <td>M6E</td>\n      <td>York</td>\n      <td>Caledonia-Fairbanks</td>\n      <td>43.689026</td>\n      <td>-79.453512</td>\n    </tr>\n    <tr>\n      <th>12</th>\n      <td>M1G</td>\n      <td>Scarborough</td>\n      <td>Woburn</td>\n      <td>43.770992</td>\n      <td>-79.216917</td>\n    </tr>\n    <tr>\n      <th>13</th>\n      <td>M4G</td>\n      <td>East York</td>\n      <td>Leaside</td>\n      <td>43.709060</td>\n      <td>-79.363452</td>\n    </tr>\n    <tr>\n      <th>14</th>\n      <td>M5G</td>\n      <td>Downtown Toronto</td>\n      <td>Central Bay Street</td>\n      <td>43.657952</td>\n      <td>-79.387383</td>\n    </tr>\n    <tr>\n      <th>15</th>\n      <td>M6G</td>\n      <td>Downtown Toronto</td>\n      <td>Christie</td>\n      <td>43.669542</td>\n      <td>-79.422564</td>\n    </tr>\n    <tr>\n      <th>16</th>\n      <td>M1H</td>\n      <td>Scarborough</td>\n      <td>Cedarbrae</td>\n      <td>43.773136</td>\n      <td>-79.239476</td>\n    </tr>\n    <tr>\n      <th>17</th>\n      <td>M2H</td>\n      <td>North York</td>\n      <td>Hillcrest Village</td>\n      <td>43.803762</td>\n      <td>-79.363452</td>\n    </tr>\n    <tr>\n      <th>18</th>\n      <td>M4H</td>\n      <td>East York</td>\n      <td>Thorncliffe Park</td>\n      <td>43.705369</td>\n      <td>-79.349372</td>\n    </tr>\n    <tr>\n      <th>19</th>\n      <td>M1J</td>\n      <td>Scarborough</td>\n      <td>Scarborough Village</td>\n      <td>43.744734</td>\n      <td>-79.239476</td>\n    </tr>\n    <tr>\n      <th>20</th>\n      <td>M4J</td>\n      <td>East York</td>\n      <td>East Toronto</td>\n      <td>43.685347</td>\n      <td>-79.338106</td>\n    </tr>\n    <tr>\n      <th>21</th>\n      <td>M2K</td>\n      <td>North York</td>\n      <td>Bayview Village</td>\n      <td>43.786947</td>\n      <td>-79.385975</td>\n    </tr>\n    <tr>\n      <th>22</th>\n      <td>M3L</td>\n      <td>North York</td>\n      <td>Downsview West</td>\n      <td>43.739015</td>\n      <td>-79.506944</td>\n    </tr>\n    <tr>\n      <th>23</th>\n      <td>M9L</td>\n      <td>North York</td>\n      <td>Humber Summit</td>\n      <td>43.756303</td>\n      <td>-79.565963</td>\n    </tr>\n    <tr>\n      <th>24</th>\n      <td>M3M</td>\n      <td>North York</td>\n      <td>Downsview Central</td>\n      <td>43.728496</td>\n      <td>-79.495697</td>\n    </tr>\n    <tr>\n      <th>25</th>\n      <td>M4M</td>\n      <td>East Toronto</td>\n      <td>Studio District</td>\n      <td>43.659526</td>\n      <td>-79.340923</td>\n    </tr>\n    <tr>\n      <th>26</th>\n      <td>M2N</td>\n      <td>North York</td>\n      <td>Willowdale South</td>\n      <td>43.770120</td>\n      <td>-79.408493</td>\n    </tr>\n    <tr>\n      <th>27</th>\n      <td>M3N</td>\n      <td>North York</td>\n      <td>Downsview Northwest</td>\n      <td>43.761631</td>\n      <td>-79.520999</td>\n    </tr>\n    <tr>\n      <th>28</th>\n      <td>M4N</td>\n      <td>Central Toronto</td>\n      <td>Lawrence Park</td>\n      <td>43.728020</td>\n      <td>-79.388790</td>\n    </tr>\n    <tr>\n      <th>29</th>\n      <td>M5N</td>\n      <td>Central Toronto</td>\n      <td>Roselawn</td>\n      <td>43.711695</td>\n      <td>-79.416936</td>\n    </tr>\n    <tr>\n      <th>...</th>\n      <td>...</td>\n      <td>...</td>\n      <td>...</td>\n      <td>...</td>\n      <td>...</td>\n    </tr>\n    <tr>\n      <th>73</th>\n      <td>M5J</td>\n      <td>Downtown Toronto</td>\n      <td>Harbourfront East, Toronto Islands, Union Station</td>\n      <td>43.640816</td>\n      <td>-79.381752</td>\n    </tr>\n    <tr>\n      <th>74</th>\n      <td>M5K</td>\n      <td>Downtown Toronto</td>\n      <td>Design Exchange, Toronto Dominion Centre</td>\n      <td>43.647177</td>\n      <td>-79.381576</td>\n    </tr>\n    <tr>\n      <th>75</th>\n      <td>M5L</td>\n      <td>Downtown Toronto</td>\n      <td>Commerce Court, Victoria Hotel</td>\n      <td>43.648198</td>\n      <td>-79.379817</td>\n    </tr>\n    <tr>\n      <th>76</th>\n      <td>M5M</td>\n      <td>North York</td>\n      <td>Bedford Park, Lawrence Manor East</td>\n      <td>43.733283</td>\n      <td>-79.419750</td>\n    </tr>\n    <tr>\n      <th>77</th>\n      <td>M5P</td>\n      <td>Central Toronto</td>\n      <td>Forest Hill North, Forest Hill West</td>\n      <td>43.696948</td>\n      <td>-79.411307</td>\n    </tr>\n    <tr>\n      <th>78</th>\n      <td>M5R</td>\n      <td>Central Toronto</td>\n      <td>North Midtown, The Annex, Yorkville</td>\n      <td>43.672710</td>\n      <td>-79.405678</td>\n    </tr>\n    <tr>\n      <th>79</th>\n      <td>M5S</td>\n      <td>Downtown Toronto</td>\n      <td>Harbord, University of Toronto</td>\n      <td>43.662696</td>\n      <td>-79.400049</td>\n    </tr>\n    <tr>\n      <th>80</th>\n      <td>M5T</td>\n      <td>Downtown Toronto</td>\n      <td>Chinatown, Grange Park, Kensington Market</td>\n      <td>43.653206</td>\n      <td>-79.400049</td>\n    </tr>\n    <tr>\n      <th>81</th>\n      <td>M5V</td>\n      <td>Downtown Toronto</td>\n      <td>Bathurst Quay, CN Tower, Harbourfront West, Is...</td>\n      <td>43.628947</td>\n      <td>-79.394420</td>\n    </tr>\n    <tr>\n      <th>82</th>\n      <td>M5X</td>\n      <td>Downtown Toronto</td>\n      <td>First Canadian Place, Underground city</td>\n      <td>43.648429</td>\n      <td>-79.382280</td>\n    </tr>\n    <tr>\n      <th>83</th>\n      <td>M6A</td>\n      <td>North York</td>\n      <td>Lawrence Heights, Lawrence Manor</td>\n      <td>43.718518</td>\n      <td>-79.464763</td>\n    </tr>\n    <tr>\n      <th>84</th>\n      <td>M6H</td>\n      <td>West Toronto</td>\n      <td>Dovercourt Village, Dufferin</td>\n      <td>43.669005</td>\n      <td>-79.442259</td>\n    </tr>\n    <tr>\n      <th>85</th>\n      <td>M6J</td>\n      <td>West Toronto</td>\n      <td>Little Portugal, Trinity</td>\n      <td>43.647927</td>\n      <td>-79.419750</td>\n    </tr>\n    <tr>\n      <th>86</th>\n      <td>M6K</td>\n      <td>West Toronto</td>\n      <td>Brockton, Exhibition Place, Parkdale Village</td>\n      <td>43.636847</td>\n      <td>-79.428191</td>\n    </tr>\n    <tr>\n      <th>87</th>\n      <td>M6L</td>\n      <td>North York</td>\n      <td>Maple Leaf Park, North Park, Upwood Park</td>\n      <td>43.713756</td>\n      <td>-79.490074</td>\n    </tr>\n    <tr>\n      <th>88</th>\n      <td>M6M</td>\n      <td>York</td>\n      <td>Del Ray, Keelesdale, Mount Dennis, Silverthorn</td>\n      <td>43.691116</td>\n      <td>-79.476013</td>\n    </tr>\n    <tr>\n      <th>89</th>\n      <td>M6N</td>\n      <td>York</td>\n      <td>Runnymede, The Junction North</td>\n      <td>43.673185</td>\n      <td>-79.487262</td>\n    </tr>\n    <tr>\n      <th>90</th>\n      <td>M6P</td>\n      <td>West Toronto</td>\n      <td>High Park, The Junction South</td>\n      <td>43.661608</td>\n      <td>-79.464763</td>\n    </tr>\n    <tr>\n      <th>91</th>\n      <td>M6R</td>\n      <td>West Toronto</td>\n      <td>Parkdale, Roncesvalles</td>\n      <td>43.648960</td>\n      <td>-79.456325</td>\n    </tr>\n    <tr>\n      <th>92</th>\n      <td>M6S</td>\n      <td>West Toronto</td>\n      <td>Runnymede, Swansea</td>\n      <td>43.651571</td>\n      <td>-79.484450</td>\n    </tr>\n    <tr>\n      <th>93</th>\n      <td>M8V</td>\n      <td>Etobicoke</td>\n      <td>Humber Bay Shores, Mimico South, New Toronto</td>\n      <td>43.605647</td>\n      <td>-79.501321</td>\n    </tr>\n    <tr>\n      <th>94</th>\n      <td>M8W</td>\n      <td>Etobicoke</td>\n      <td>Alderwood, Long Branch</td>\n      <td>43.602414</td>\n      <td>-79.543484</td>\n    </tr>\n    <tr>\n      <th>95</th>\n      <td>M8X</td>\n      <td>Etobicoke</td>\n      <td>Montgomery Road, Old Mill North, The Kingsway</td>\n      <td>43.653654</td>\n      <td>-79.506944</td>\n    </tr>\n    <tr>\n      <th>96</th>\n      <td>M8Y</td>\n      <td>Etobicoke</td>\n      <td>Humber Bay, King's Mill Park, Kingsway Park So...</td>\n      <td>43.636258</td>\n      <td>-79.498509</td>\n    </tr>\n    <tr>\n      <th>97</th>\n      <td>M8Z</td>\n      <td>Etobicoke</td>\n      <td>Kingsway Park South West, Mimico NW, Royal Yor...</td>\n      <td>43.628841</td>\n      <td>-79.520999</td>\n    </tr>\n    <tr>\n      <th>98</th>\n      <td>M9B</td>\n      <td>Etobicoke</td>\n      <td>Cloverdale, Islington, Martin Grove, Princess ...</td>\n      <td>43.650943</td>\n      <td>-79.554724</td>\n    </tr>\n    <tr>\n      <th>99</th>\n      <td>M9C</td>\n      <td>Etobicoke</td>\n      <td>Bloordale Gardens, Eringate, Markland Wood, Ol...</td>\n      <td>43.643515</td>\n      <td>-79.577201</td>\n    </tr>\n    <tr>\n      <th>100</th>\n      <td>M9M</td>\n      <td>North York</td>\n      <td>Emery, Humberlea</td>\n      <td>43.724766</td>\n      <td>-79.532242</td>\n    </tr>\n    <tr>\n      <th>101</th>\n      <td>M9R</td>\n      <td>Etobicoke</td>\n      <td>Kingsview Village, Martin Grove Gardens, Richv...</td>\n      <td>43.688905</td>\n      <td>-79.554724</td>\n    </tr>\n    <tr>\n      <th>102</th>\n      <td>M9V</td>\n      <td>Etobicoke</td>\n      <td>Albion Gardens, Beaumond Heights, Humbergate, ...</td>\n      <td>43.739416</td>\n      <td>-79.588437</td>\n    </tr>\n  </tbody>\n</table>\n<p>103 rows × 5 columns</p>\n</div>",
            "text/plain": "    PostalCode           Borough  \\\n0          M3A        North York   \n1          M4A        North York   \n2          M7A      Queen's Park   \n3          M9A         Etobicoke   \n4          M3B        North York   \n5          M6B        North York   \n6          M4C         East York   \n7          M5C  Downtown Toronto   \n8          M6C              York   \n9          M4E      East Toronto   \n10         M5E  Downtown Toronto   \n11         M6E              York   \n12         M1G       Scarborough   \n13         M4G         East York   \n14         M5G  Downtown Toronto   \n15         M6G  Downtown Toronto   \n16         M1H       Scarborough   \n17         M2H        North York   \n18         M4H         East York   \n19         M1J       Scarborough   \n20         M4J         East York   \n21         M2K        North York   \n22         M3L        North York   \n23         M9L        North York   \n24         M3M        North York   \n25         M4M      East Toronto   \n26         M2N        North York   \n27         M3N        North York   \n28         M4N   Central Toronto   \n29         M5N   Central Toronto   \n..         ...               ...   \n73         M5J  Downtown Toronto   \n74         M5K  Downtown Toronto   \n75         M5L  Downtown Toronto   \n76         M5M        North York   \n77         M5P   Central Toronto   \n78         M5R   Central Toronto   \n79         M5S  Downtown Toronto   \n80         M5T  Downtown Toronto   \n81         M5V  Downtown Toronto   \n82         M5X  Downtown Toronto   \n83         M6A        North York   \n84         M6H      West Toronto   \n85         M6J      West Toronto   \n86         M6K      West Toronto   \n87         M6L        North York   \n88         M6M              York   \n89         M6N              York   \n90         M6P      West Toronto   \n91         M6R      West Toronto   \n92         M6S      West Toronto   \n93         M8V         Etobicoke   \n94         M8W         Etobicoke   \n95         M8X         Etobicoke   \n96         M8Y         Etobicoke   \n97         M8Z         Etobicoke   \n98         M9B         Etobicoke   \n99         M9C         Etobicoke   \n100        M9M        North York   \n101        M9R         Etobicoke   \n102        M9V         Etobicoke   \n\n                                          Neighborhood   Latitude  Longitude  \n0                                            Parkwoods  43.753259 -79.329656  \n1                                     Victoria Village  43.725882 -79.315572  \n2                                         Queen's Park  43.662301 -79.389494  \n3                                     Islington Avenue  43.667856 -79.532242  \n4                                      Don Mills North  43.745906 -79.352188  \n5                                            Glencairn  43.709577 -79.445073  \n6                                     Woodbine Heights  43.695344 -79.318389  \n7                                       St. James Town  43.651494 -79.375418  \n8                                   Humewood-Cedarvale  43.693781 -79.428191  \n9                                          The Beaches  43.676357 -79.293031  \n10                                         Berczy Park  43.644771 -79.373306  \n11                                 Caledonia-Fairbanks  43.689026 -79.453512  \n12                                              Woburn  43.770992 -79.216917  \n13                                             Leaside  43.709060 -79.363452  \n14                                  Central Bay Street  43.657952 -79.387383  \n15                                            Christie  43.669542 -79.422564  \n16                                           Cedarbrae  43.773136 -79.239476  \n17                                   Hillcrest Village  43.803762 -79.363452  \n18                                    Thorncliffe Park  43.705369 -79.349372  \n19                                 Scarborough Village  43.744734 -79.239476  \n20                                        East Toronto  43.685347 -79.338106  \n21                                     Bayview Village  43.786947 -79.385975  \n22                                      Downsview West  43.739015 -79.506944  \n23                                       Humber Summit  43.756303 -79.565963  \n24                                   Downsview Central  43.728496 -79.495697  \n25                                     Studio District  43.659526 -79.340923  \n26                                    Willowdale South  43.770120 -79.408493  \n27                                 Downsview Northwest  43.761631 -79.520999  \n28                                       Lawrence Park  43.728020 -79.388790  \n29                                            Roselawn  43.711695 -79.416936  \n..                                                 ...        ...        ...  \n73   Harbourfront East, Toronto Islands, Union Station  43.640816 -79.381752  \n74            Design Exchange, Toronto Dominion Centre  43.647177 -79.381576  \n75                      Commerce Court, Victoria Hotel  43.648198 -79.379817  \n76                   Bedford Park, Lawrence Manor East  43.733283 -79.419750  \n77                 Forest Hill North, Forest Hill West  43.696948 -79.411307  \n78                 North Midtown, The Annex, Yorkville  43.672710 -79.405678  \n79                      Harbord, University of Toronto  43.662696 -79.400049  \n80           Chinatown, Grange Park, Kensington Market  43.653206 -79.400049  \n81   Bathurst Quay, CN Tower, Harbourfront West, Is...  43.628947 -79.394420  \n82              First Canadian Place, Underground city  43.648429 -79.382280  \n83                    Lawrence Heights, Lawrence Manor  43.718518 -79.464763  \n84                        Dovercourt Village, Dufferin  43.669005 -79.442259  \n85                            Little Portugal, Trinity  43.647927 -79.419750  \n86        Brockton, Exhibition Place, Parkdale Village  43.636847 -79.428191  \n87            Maple Leaf Park, North Park, Upwood Park  43.713756 -79.490074  \n88      Del Ray, Keelesdale, Mount Dennis, Silverthorn  43.691116 -79.476013  \n89                       Runnymede, The Junction North  43.673185 -79.487262  \n90                       High Park, The Junction South  43.661608 -79.464763  \n91                              Parkdale, Roncesvalles  43.648960 -79.456325  \n92                                  Runnymede, Swansea  43.651571 -79.484450  \n93        Humber Bay Shores, Mimico South, New Toronto  43.605647 -79.501321  \n94                              Alderwood, Long Branch  43.602414 -79.543484  \n95       Montgomery Road, Old Mill North, The Kingsway  43.653654 -79.506944  \n96   Humber Bay, King's Mill Park, Kingsway Park So...  43.636258 -79.498509  \n97   Kingsway Park South West, Mimico NW, Royal Yor...  43.628841 -79.520999  \n98   Cloverdale, Islington, Martin Grove, Princess ...  43.650943 -79.554724  \n99   Bloordale Gardens, Eringate, Markland Wood, Ol...  43.643515 -79.577201  \n100                                   Emery, Humberlea  43.724766 -79.532242  \n101  Kingsview Village, Martin Grove Gardens, Richv...  43.688905 -79.554724  \n102  Albion Gardens, Beaumond Heights, Humbergate, ...  43.739416 -79.588437  \n\n[103 rows x 5 columns]"
          },
          "metadata": {}
        }
      ]
    },
    {
      "cell_type": "code",
      "source": "",
      "metadata": {},
      "execution_count": null,
      "outputs": []
    }
  ]
}